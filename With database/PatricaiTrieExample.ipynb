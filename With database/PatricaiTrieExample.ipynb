{
 "cells": [
  {
   "cell_type": "code",
   "execution_count": 19,
   "metadata": {},
   "outputs": [],
   "source": [
    "from PatriciaDatabase import PatriciaDatabase\n",
    "from PatriciaTrie import PatriciaTrie\n",
    "from PatriciaDatabaseTest import test"
   ]
  },
  {
   "cell_type": "code",
   "execution_count": 20,
   "metadata": {},
   "outputs": [],
   "source": [
    "import hashlib\n",
    "import random"
   ]
  },
  {
   "cell_type": "markdown",
   "metadata": {},
   "source": [
    "Arguments to connectiong database"
   ]
  },
  {
   "cell_type": "code",
   "execution_count": 21,
   "metadata": {},
   "outputs": [],
   "source": [
    "args = {\n",
    "    'DB_NAME': \"blockchain_postgresql\", \n",
    "    #'DB_USER': \"darkhannurlybay\",\n",
    "    #'DB_PASSWORD': \"\",\n",
    "    #'DB_HOST': \"localhost\",\n",
    "    'DB_PORT': \"5432\",\n",
    "    'verbose': False\n",
    "}"
   ]
  },
  {
   "cell_type": "markdown",
   "metadata": {},
   "source": [
    "Run unit tests"
   ]
  },
  {
   "cell_type": "code",
   "execution_count": 22,
   "metadata": {},
   "outputs": [
    {
     "name": "stdout",
     "output_type": "stream",
     "text": [
      "\n",
      "Seems like good!\n"
     ]
    }
   ],
   "source": [
    "test(args)"
   ]
  },
  {
   "cell_type": "markdown",
   "metadata": {},
   "source": [
    "Creating some users in our system"
   ]
  },
  {
   "cell_type": "code",
   "execution_count": 23,
   "metadata": {},
   "outputs": [],
   "source": [
    "users = {}\n",
    "#user = {    'Alice': '000010',    'Bob': '010100',    'Sally': '111111'}"
   ]
  },
  {
   "cell_type": "code",
   "execution_count": 24,
   "metadata": {},
   "outputs": [],
   "source": [
    "number_of_users = 2"
   ]
  },
  {
   "cell_type": "code",
   "execution_count": 25,
   "metadata": {},
   "outputs": [],
   "source": [
    "for i in range(number_of_users):\n",
    "    users['user_'+str(i)] = hashlib.sha224(bytes(i)).hexdigest()"
   ]
  },
  {
   "cell_type": "code",
   "execution_count": 26,
   "metadata": {},
   "outputs": [
    {
     "name": "stdout",
     "output_type": "stream",
     "text": [
      "('user_0', 'd14a028c2a3a2bc9476102bb288234c415a2b01f828ea62ac5b3e42f')\n",
      "('user_1', 'fff9292b4201617bdc4d3053fce02734166a683d7d858a7f5f59b073')\n"
     ]
    }
   ],
   "source": [
    "#Displaying users' list\n",
    "for i in users.items():\n",
    "    print(i)"
   ]
  },
  {
   "cell_type": "code",
   "execution_count": 33,
   "metadata": {},
   "outputs": [],
   "source": [
    "db = PatriciaDatabase(**args)\n",
    "db.delete_tables()\n",
    "db.create_tables()"
   ]
  },
  {
   "cell_type": "code",
   "execution_count": null,
   "metadata": {},
   "outputs": [],
   "source": [
    "t = PatriciaTrie(db, simple_hash=False)\n",
    "\n",
    "#creating users with initial balances i.e. 10 ** 6\n",
    "amount = 10 ** 6\n",
    "for i in users.items():\n",
    "    \n",
    "    tx_hash = hashlib.sha224(str(i[1] + str(amount)).encode('utf-8')).hexdigest()\n",
    "    t.create(i[1],amount,tx_hash)\n",
    "\n",
    "#t.create(user['Alice'], 100, '0000')\n",
    "#t.create(user['Bob'], 50, '0001')\n",
    "\n",
    "db.print_column_name('PatriciaNode');\n",
    "for row in t.db.show_table('PatriciaNode'):\n",
    "    print(row)\n",
    "    \n",
    "t.draw()"
   ]
  },
  {
   "cell_type": "code",
   "execution_count": 28,
   "metadata": {},
   "outputs": [],
   "source": [
    "#assert t.get_balance(user['Alice']) == 100\n",
    "#assert t.get_balance(user['Bob']) == 50"
   ]
  },
  {
   "cell_type": "code",
   "execution_count": 29,
   "metadata": {},
   "outputs": [],
   "source": [
    "#t.spend(user['Alice'], user['Bob'], 10, '1000')\n",
    "#assert t.get_balance(user['Alice']) == 90\n",
    "#assert t.get_balance(user['Bob']) == 60\n",
    "#t.draw()"
   ]
  },
  {
   "cell_type": "code",
   "execution_count": 30,
   "metadata": {},
   "outputs": [
    {
     "name": "stdout",
     "output_type": "stream",
     "text": [
      "d14a028c2a3a2bc9476102bb288234c415a2b01f828ea62ac5b3e42f  ->  fff9292b4201617bdc4d3053fce02734166a683d7d858a7f5f59b073\n",
      "d14a028c2a3a2bc9476102bb288234c415a2b01f828ea62ac5b3e42f  ->  fff9292b4201617bdc4d3053fce02734166a683d7d858a7f5f59b073\n",
      "fff9292b4201617bdc4d3053fce02734166a683d7d858a7f5f59b073  ->  d14a028c2a3a2bc9476102bb288234c415a2b01f828ea62ac5b3e42f\n",
      "d14a028c2a3a2bc9476102bb288234c415a2b01f828ea62ac5b3e42f  ->  fff9292b4201617bdc4d3053fce02734166a683d7d858a7f5f59b073\n",
      "d14a028c2a3a2bc9476102bb288234c415a2b01f828ea62ac5b3e42f  ->  fff9292b4201617bdc4d3053fce02734166a683d7d858a7f5f59b073\n"
     ]
    },
    {
     "data": {
      "text/plain": [
       "'d14a028c2a3a2bc9476102bb288234c415a2b01f828ea62ac5b3e42ffff9292b4201617bdc4d3053fce02734166a683d7d858a7f5f59b07346'"
      ]
     },
     "execution_count": 30,
     "metadata": {},
     "output_type": "execute_result"
    }
   ],
   "source": [
    "#creating random transactions\n",
    "transactions = 5\n",
    "for i in range(transactions):\n",
    "        sender = random.choice(list(users.values()))\n",
    "        receiver = random.choice(list(i for i in users.values() if i not in sender))\n",
    "        print(sender,' -> ',receiver)\n",
    "        amount = random.randint(0, 100)\n",
    "        transaction_string = str(sender + receiver + str(amount))\n",
    "        tx_hash_balance = hashlib.sha224(transaction_string.encode('utf-8')).hexdigest()\n",
    "        #t.spend(users[sender], users[receiver],amount , tx_hash_balance)\n",
    "        t.spend(sender, receiver,amount , tx_hash_balance)\n",
    "        \n",
    "#t.draw()\n",
    "transaction_string\n"
   ]
  },
  {
   "cell_type": "code",
   "execution_count": 31,
   "metadata": {},
   "outputs": [
    {
     "data": {
      "image/svg+xml": [
       "<?xml version=\"1.0\" encoding=\"UTF-8\" standalone=\"no\"?>\n",
       "<!DOCTYPE svg PUBLIC \"-//W3C//DTD SVG 1.1//EN\"\n",
       " \"http://www.w3.org/Graphics/SVG/1.1/DTD/svg11.dtd\">\n",
       "<!-- Generated by graphviz version 2.40.1 (20161225.0304)\n",
       " -->\n",
       "<!-- Title: %3 Pages: 1 -->\n",
       "<svg width=\"3597pt\" height=\"457pt\"\n",
       " viewBox=\"0.00 0.00 3597.13 457.48\" xmlns=\"http://www.w3.org/2000/svg\" xmlns:xlink=\"http://www.w3.org/1999/xlink\">\n",
       "<g id=\"graph0\" class=\"graph\" transform=\"scale(1 1) rotate(0) translate(4 453.4802)\">\n",
       "<title>%3</title>\n",
       "<polygon fill=\"#ffffff\" stroke=\"transparent\" points=\"-4,4 -4,-453.4802 3593.1335,-453.4802 3593.1335,4 -4,4\"/>\n",
       "<!-- 13 -->\n",
       "<g id=\"node1\" class=\"node\">\n",
       "<title>13</title>\n",
       "<ellipse fill=\"none\" stroke=\"#000000\" cx=\"240.1335\" cy=\"-131.6102\" rx=\"65.5227\" ry=\"26.7407\"/>\n",
       "<text text-anchor=\"middle\" x=\"240.1335\" y=\"-135.4102\" font-family=\"Times,serif\" font-size=\"14.00\" fill=\"#000000\">13</text>\n",
       "<text text-anchor=\"middle\" x=\"240.1335\" y=\"-120.4102\" font-family=\"Times,serif\" font-size=\"14.00\" fill=\"#000000\">balance = &#45;85</text>\n",
       "</g>\n",
       "<!-- 11 -->\n",
       "<g id=\"node16\" class=\"node\">\n",
       "<title>11</title>\n",
       "<ellipse fill=\"#b2dfee\" stroke=\"#b2dfee\" cx=\"43.1335\" cy=\"-26.8701\" rx=\"43.2674\" ry=\"26.7407\"/>\n",
       "<text text-anchor=\"middle\" x=\"43.1335\" y=\"-30.6701\" font-family=\"Times,serif\" font-size=\"14.00\" fill=\"#000000\">11</text>\n",
       "<text text-anchor=\"middle\" x=\"43.1335\" y=\"-15.6701\" font-family=\"Times,serif\" font-size=\"14.00\" fill=\"#000000\">tx = &#45;39</text>\n",
       "</g>\n",
       "<!-- 13&#45;&gt;11 -->\n",
       "<g id=\"edge12\" class=\"edge\">\n",
       "<title>13&#45;&gt;11</title>\n",
       "<path fill=\"none\" stroke=\"#000000\" d=\"M176.1356,-125.4263C125.5086,-119.0663 60.6758,-107.1454 44.1335,-86.7401 38.8743,-80.2527 36.8174,-71.9411 36.4709,-63.589\"/>\n",
       "<polygon fill=\"#000000\" stroke=\"#000000\" points=\"39.972,-63.6089 36.7963,-53.5012 32.9756,-63.3831 39.972,-63.6089\"/>\n",
       "<text text-anchor=\"middle\" x=\"229.6335\" y=\"-75.5401\" font-family=\"Times,serif\" font-size=\"14.00\" fill=\"#000000\">3d157fa1ac48831be80605848659f582c3c6685878af83590bd0fb0</text>\n",
       "</g>\n",
       "<!-- 14 -->\n",
       "<g id=\"node17\" class=\"node\">\n",
       "<title>14</title>\n",
       "<ellipse fill=\"#b2dfee\" stroke=\"#b2dfee\" cx=\"437.1335\" cy=\"-26.8701\" rx=\"43.2674\" ry=\"26.7407\"/>\n",
       "<text text-anchor=\"middle\" x=\"437.1335\" y=\"-30.6701\" font-family=\"Times,serif\" font-size=\"14.00\" fill=\"#000000\">14</text>\n",
       "<text text-anchor=\"middle\" x=\"437.1335\" y=\"-15.6701\" font-family=\"Times,serif\" font-size=\"14.00\" fill=\"#000000\">tx = &#45;46</text>\n",
       "</g>\n",
       "<!-- 13&#45;&gt;14 -->\n",
       "<g id=\"edge13\" class=\"edge\">\n",
       "<title>13&#45;&gt;14</title>\n",
       "<path fill=\"none\" stroke=\"#000000\" d=\"M288.1746,-113.0707C297.0573,-110.0235 306.3142,-107.0962 315.1335,-104.7401 358.7621,-93.0846 380.5469,-115.7759 415.1335,-86.7401 422.22,-80.791 427.0242,-72.3475 430.281,-63.6716\"/>\n",
       "<polygon fill=\"#000000\" stroke=\"#000000\" points=\"433.6932,-64.487 433.3398,-53.898 427.0127,-62.3962 433.6932,-64.487\"/>\n",
       "<text text-anchor=\"middle\" x=\"611.6335\" y=\"-75.5401\" font-family=\"Times,serif\" font-size=\"14.00\" fill=\"#000000\">7f8b1e6d15ac7daff3f004d99b1d6b4157c797e2c4dd05868276ced</text>\n",
       "</g>\n",
       "<!-- 1 -->\n",
       "<g id=\"node2\" class=\"node\">\n",
       "<title>1</title>\n",
       "<polygon fill=\"#ffd700\" stroke=\"#ffd700\" points=\"1061.1335,-358.9802 915.1335,-358.9802 915.1335,-212.9802 1061.1335,-212.9802 1061.1335,-358.9802\"/>\n",
       "<text text-anchor=\"middle\" x=\"988.1335\" y=\"-289.7802\" font-family=\"Times,serif\" font-size=\"14.00\" fill=\"#000000\">1</text>\n",
       "<text text-anchor=\"middle\" x=\"988.1335\" y=\"-274.7802\" font-family=\"Times,serif\" font-size=\"14.00\" fill=\"#000000\">User balance = 999739</text>\n",
       "</g>\n",
       "<!-- 1&#45;&gt;13 -->\n",
       "<g id=\"edge11\" class=\"edge\">\n",
       "<title>1&#45;&gt;13</title>\n",
       "<path fill=\"none\" stroke=\"#000000\" d=\"M914.7416,-280.272C799.6747,-270.0451 570.5853,-244.5157 383.1335,-191.4802 351.8588,-182.6317 318.2692,-168.8088 291.5081,-156.6735\"/>\n",
       "<polygon fill=\"#000000\" stroke=\"#000000\" points=\"292.8902,-153.4568 282.3421,-152.4625 289.9678,-159.8177 292.8902,-153.4568\"/>\n",
       "<text text-anchor=\"middle\" x=\"386.6335\" y=\"-180.2802\" font-family=\"Times,serif\" font-size=\"14.00\" fill=\"#000000\">e</text>\n",
       "</g>\n",
       "<!-- 2 -->\n",
       "<g id=\"node3\" class=\"node\">\n",
       "<title>2</title>\n",
       "<ellipse fill=\"#b2dfee\" stroke=\"#b2dfee\" cx=\"388.1335\" cy=\"-131.6102\" rx=\"64.1938\" ry=\"26.7407\"/>\n",
       "<text text-anchor=\"middle\" x=\"388.1335\" y=\"-135.4102\" font-family=\"Times,serif\" font-size=\"14.00\" fill=\"#000000\">2</text>\n",
       "<text text-anchor=\"middle\" x=\"388.1335\" y=\"-120.4102\" font-family=\"Times,serif\" font-size=\"14.00\" fill=\"#000000\">tx = 1000000</text>\n",
       "</g>\n",
       "<!-- 1&#45;&gt;2 -->\n",
       "<g id=\"edge2\" class=\"edge\">\n",
       "<title>1&#45;&gt;2</title>\n",
       "<path fill=\"none\" stroke=\"#000000\" d=\"M915.0204,-283.9228C775.0776,-278.4652 476.6906,-259.0137 403.1335,-191.4802 396.6093,-185.4903 392.7344,-177.127 390.4781,-168.5473\"/>\n",
       "<polygon fill=\"#000000\" stroke=\"#000000\" points=\"393.8682,-167.6462 388.5112,-158.5055 386.9987,-168.9918 393.8682,-167.6462\"/>\n",
       "<text text-anchor=\"middle\" x=\"590.6335\" y=\"-180.2802\" font-family=\"Times,serif\" font-size=\"14.00\" fill=\"#000000\">64fd0e7160668c7db724a0fdc07ede6a46d50187635833c6af1a9adf</text>\n",
       "</g>\n",
       "<!-- 5 -->\n",
       "<g id=\"node10\" class=\"node\">\n",
       "<title>5</title>\n",
       "<ellipse fill=\"#b2dfee\" stroke=\"#b2dfee\" cx=\"786.1335\" cy=\"-131.6102\" rx=\"43.2674\" ry=\"26.7407\"/>\n",
       "<text text-anchor=\"middle\" x=\"786.1335\" y=\"-135.4102\" font-family=\"Times,serif\" font-size=\"14.00\" fill=\"#000000\">5</text>\n",
       "<text text-anchor=\"middle\" x=\"786.1335\" y=\"-120.4102\" font-family=\"Times,serif\" font-size=\"14.00\" fill=\"#000000\">tx = &#45;96</text>\n",
       "</g>\n",
       "<!-- 1&#45;&gt;5 -->\n",
       "<g id=\"edge5\" class=\"edge\">\n",
       "<title>1&#45;&gt;5</title>\n",
       "<path fill=\"none\" stroke=\"#000000\" d=\"M915.0643,-271.9706C869.952,-259.1709 815.4524,-235.2744 787.1335,-191.4802 782.7676,-184.7285 780.9485,-176.5916 780.5358,-168.5229\"/>\n",
       "<polygon fill=\"#000000\" stroke=\"#000000\" points=\"784.0365,-168.4972 780.6795,-158.4482 777.0372,-168.3973 784.0365,-168.4972\"/>\n",
       "<text text-anchor=\"middle\" x=\"978.1335\" y=\"-180.2802\" font-family=\"Times,serif\" font-size=\"14.00\" fill=\"#000000\">5f12e6031f35d2d599b227b52142184b60786005029292ee289f54ca</text>\n",
       "</g>\n",
       "<!-- 7 -->\n",
       "<g id=\"node12\" class=\"node\">\n",
       "<title>7</title>\n",
       "<ellipse fill=\"#b2dfee\" stroke=\"#b2dfee\" cx=\"1191.1335\" cy=\"-131.6102\" rx=\"43.2674\" ry=\"26.7407\"/>\n",
       "<text text-anchor=\"middle\" x=\"1191.1335\" y=\"-135.4102\" font-family=\"Times,serif\" font-size=\"14.00\" fill=\"#000000\">7</text>\n",
       "<text text-anchor=\"middle\" x=\"1191.1335\" y=\"-120.4102\" font-family=\"Times,serif\" font-size=\"14.00\" fill=\"#000000\">tx = &#45;91</text>\n",
       "</g>\n",
       "<!-- 1&#45;&gt;7 -->\n",
       "<g id=\"edge7\" class=\"edge\">\n",
       "<title>1&#45;&gt;7</title>\n",
       "<path fill=\"none\" stroke=\"#000000\" d=\"M1061.5289,-262.1145C1098.1428,-246.9535 1140.5881,-223.9686 1169.1335,-191.4802 1175.0174,-184.7836 1179.3762,-176.3786 1182.5874,-168.0017\"/>\n",
       "<polygon fill=\"#000000\" stroke=\"#000000\" points=\"1185.9848,-168.8789 1185.8523,-158.2849 1179.3494,-166.6493 1185.9848,-168.8789\"/>\n",
       "<text text-anchor=\"middle\" x=\"1368.1335\" y=\"-180.2802\" font-family=\"Times,serif\" font-size=\"14.00\" fill=\"#000000\">10956e66f17a2e4aa9daeba7413a39d940c095a97dac04a024cd3332</text>\n",
       "</g>\n",
       "<!-- 10 -->\n",
       "<g id=\"node15\" class=\"node\">\n",
       "<title>10</title>\n",
       "<ellipse fill=\"#b2dfee\" stroke=\"#b2dfee\" cx=\"1592.1335\" cy=\"-131.6102\" rx=\"39.6962\" ry=\"26.7407\"/>\n",
       "<text text-anchor=\"middle\" x=\"1592.1335\" y=\"-135.4102\" font-family=\"Times,serif\" font-size=\"14.00\" fill=\"#000000\">10</text>\n",
       "<text text-anchor=\"middle\" x=\"1592.1335\" y=\"-120.4102\" font-family=\"Times,serif\" font-size=\"14.00\" fill=\"#000000\">tx = 11</text>\n",
       "</g>\n",
       "<!-- 1&#45;&gt;10 -->\n",
       "<g id=\"edge10\" class=\"edge\">\n",
       "<title>1&#45;&gt;10</title>\n",
       "<path fill=\"none\" stroke=\"#000000\" d=\"M1061.3867,-281.983C1197.4509,-273.2717 1482.5181,-248.5877 1561.1335,-191.4802 1569.3569,-185.5067 1575.5682,-176.697 1580.1864,-167.6627\"/>\n",
       "<polygon fill=\"#000000\" stroke=\"#000000\" points=\"1583.5004,-168.8291 1584.4399,-158.276 1577.1245,-165.9399 1583.5004,-168.8291\"/>\n",
       "<text text-anchor=\"middle\" x=\"1763.6335\" y=\"-180.2802\" font-family=\"Times,serif\" font-size=\"14.00\" fill=\"#000000\">0fc587411f5cc5686200b72bfc3d317a488d4987e7f2ee120812b231</text>\n",
       "</g>\n",
       "<!-- 12 -->\n",
       "<g id=\"node4\" class=\"node\">\n",
       "<title>12</title>\n",
       "<ellipse fill=\"#b2dfee\" stroke=\"#b2dfee\" cx=\"2106.1335\" cy=\"-26.8701\" rx=\"39.6962\" ry=\"26.7407\"/>\n",
       "<text text-anchor=\"middle\" x=\"2106.1335\" y=\"-30.6701\" font-family=\"Times,serif\" font-size=\"14.00\" fill=\"#000000\">12</text>\n",
       "<text text-anchor=\"middle\" x=\"2106.1335\" y=\"-15.6701\" font-family=\"Times,serif\" font-size=\"14.00\" fill=\"#000000\">tx = 39</text>\n",
       "</g>\n",
       "<!-- 4 -->\n",
       "<g id=\"node5\" class=\"node\">\n",
       "<title>4</title>\n",
       "<ellipse fill=\"#b2dfee\" stroke=\"#b2dfee\" cx=\"1992.1335\" cy=\"-131.6102\" rx=\"64.1938\" ry=\"26.7407\"/>\n",
       "<text text-anchor=\"middle\" x=\"1992.1335\" y=\"-135.4102\" font-family=\"Times,serif\" font-size=\"14.00\" fill=\"#000000\">4</text>\n",
       "<text text-anchor=\"middle\" x=\"1992.1335\" y=\"-120.4102\" font-family=\"Times,serif\" font-size=\"14.00\" fill=\"#000000\">tx = 1000000</text>\n",
       "</g>\n",
       "<!-- 16 -->\n",
       "<g id=\"node6\" class=\"node\">\n",
       "<title>16</title>\n",
       "<ellipse fill=\"#b2dfee\" stroke=\"#b2dfee\" cx=\"2500.1335\" cy=\"-26.8701\" rx=\"39.6962\" ry=\"26.7407\"/>\n",
       "<text text-anchor=\"middle\" x=\"2500.1335\" y=\"-30.6701\" font-family=\"Times,serif\" font-size=\"14.00\" fill=\"#000000\">16</text>\n",
       "<text text-anchor=\"middle\" x=\"2500.1335\" y=\"-15.6701\" font-family=\"Times,serif\" font-size=\"14.00\" fill=\"#000000\">tx = 46</text>\n",
       "</g>\n",
       "<!-- 15 -->\n",
       "<g id=\"node7\" class=\"node\">\n",
       "<title>15</title>\n",
       "<ellipse fill=\"none\" stroke=\"#000000\" cx=\"2303.1335\" cy=\"-131.6102\" rx=\"62.4516\" ry=\"26.7407\"/>\n",
       "<text text-anchor=\"middle\" x=\"2303.1335\" y=\"-135.4102\" font-family=\"Times,serif\" font-size=\"14.00\" fill=\"#000000\">15</text>\n",
       "<text text-anchor=\"middle\" x=\"2303.1335\" y=\"-120.4102\" font-family=\"Times,serif\" font-size=\"14.00\" fill=\"#000000\">balance = 85</text>\n",
       "</g>\n",
       "<!-- 15&#45;&gt;12 -->\n",
       "<g id=\"edge15\" class=\"edge\">\n",
       "<title>15&#45;&gt;12</title>\n",
       "<path fill=\"none\" stroke=\"#000000\" d=\"M2242.1457,-125.8C2191.1125,-119.5382 2124.0056,-107.5522 2107.1335,-86.7401 2101.8743,-80.2527 2099.8174,-71.9411 2099.4709,-63.589\"/>\n",
       "<polygon fill=\"#000000\" stroke=\"#000000\" points=\"2102.972,-63.6089 2099.7963,-53.5012 2095.9756,-63.3831 2102.972,-63.6089\"/>\n",
       "<text text-anchor=\"middle\" x=\"2292.6335\" y=\"-75.5401\" font-family=\"Times,serif\" font-size=\"14.00\" fill=\"#000000\">3d157fa1ac48831be80605848659f582c3c6685878af83590bd0fb0</text>\n",
       "</g>\n",
       "<!-- 15&#45;&gt;16 -->\n",
       "<g id=\"edge16\" class=\"edge\">\n",
       "<title>15&#45;&gt;16</title>\n",
       "<path fill=\"none\" stroke=\"#000000\" d=\"M2348.5425,-112.964C2356.9586,-109.9276 2365.7423,-107.0317 2374.1335,-104.7401 2419.3859,-92.3823 2442.105,-116.7808 2478.1335,-86.7401 2485.2399,-80.8148 2490.051,-72.3796 2493.3082,-63.704\"/>\n",
       "<polygon fill=\"#000000\" stroke=\"#000000\" points=\"2496.7211,-64.5167 2496.3648,-53.9279 2490.04,-62.4278 2496.7211,-64.5167\"/>\n",
       "<text text-anchor=\"middle\" x=\"2674.6335\" y=\"-75.5401\" font-family=\"Times,serif\" font-size=\"14.00\" fill=\"#000000\">7f8b1e6d15ac7daff3f004d99b1d6b4157c797e2c4dd05868276ced</text>\n",
       "</g>\n",
       "<!-- 3 -->\n",
       "<g id=\"node8\" class=\"node\">\n",
       "<title>3</title>\n",
       "<polygon fill=\"#ffd700\" stroke=\"#ffd700\" points=\"2484.6335,-362.4802 2331.6335,-362.4802 2331.6335,-209.4802 2484.6335,-209.4802 2484.6335,-362.4802\"/>\n",
       "<text text-anchor=\"middle\" x=\"2408.1335\" y=\"-289.7802\" font-family=\"Times,serif\" font-size=\"14.00\" fill=\"#000000\">3</text>\n",
       "<text text-anchor=\"middle\" x=\"2408.1335\" y=\"-274.7802\" font-family=\"Times,serif\" font-size=\"14.00\" fill=\"#000000\">User balance = 1000261</text>\n",
       "</g>\n",
       "<!-- 3&#45;&gt;4 -->\n",
       "<g id=\"edge4\" class=\"edge\">\n",
       "<title>3&#45;&gt;4</title>\n",
       "<path fill=\"none\" stroke=\"#000000\" d=\"M2331.2641,-279.8855C2222.2233,-269.4634 2031.1618,-244.0431 1989.1335,-191.4802 1983.9585,-185.0081 1982.293,-176.7701 1982.4544,-168.4908\"/>\n",
       "<polygon fill=\"#000000\" stroke=\"#000000\" points=\"1985.9424,-168.7835 1983.4442,-158.4874 1978.9764,-168.0941 1985.9424,-168.7835\"/>\n",
       "<text text-anchor=\"middle\" x=\"2178.1335\" y=\"-180.2802\" font-family=\"Times,serif\" font-size=\"14.00\" fill=\"#000000\">4afaca94959771860447a4f657d8fb22d8729057cbac7e03b3343bd6</text>\n",
       "</g>\n",
       "<!-- 3&#45;&gt;15 -->\n",
       "<g id=\"edge14\" class=\"edge\">\n",
       "<title>3&#45;&gt;15</title>\n",
       "<path fill=\"none\" stroke=\"#000000\" d=\"M2389.5606,-209.3287C2384.7171,-197.6519 2378.6676,-186.2544 2371.1335,-176.4802 2365.8581,-169.6363 2359.2279,-163.5035 2352.1899,-158.1321\"/>\n",
       "<polygon fill=\"#000000\" stroke=\"#000000\" points=\"2353.9788,-155.11 2343.7973,-152.1795 2349.929,-160.8196 2353.9788,-155.11\"/>\n",
       "<text text-anchor=\"middle\" x=\"2383.6335\" y=\"-180.2802\" font-family=\"Times,serif\" font-size=\"14.00\" fill=\"#000000\">e</text>\n",
       "</g>\n",
       "<!-- 6 -->\n",
       "<g id=\"node11\" class=\"node\">\n",
       "<title>6</title>\n",
       "<ellipse fill=\"#b2dfee\" stroke=\"#b2dfee\" cx=\"2423.1335\" cy=\"-131.6102\" rx=\"39.6962\" ry=\"26.7407\"/>\n",
       "<text text-anchor=\"middle\" x=\"2423.1335\" y=\"-135.4102\" font-family=\"Times,serif\" font-size=\"14.00\" fill=\"#000000\">6</text>\n",
       "<text text-anchor=\"middle\" x=\"2423.1335\" y=\"-120.4102\" font-family=\"Times,serif\" font-size=\"14.00\" fill=\"#000000\">tx = 96</text>\n",
       "</g>\n",
       "<!-- 3&#45;&gt;6 -->\n",
       "<g id=\"edge6\" class=\"edge\">\n",
       "<title>3&#45;&gt;6</title>\n",
       "<path fill=\"none\" stroke=\"#000000\" d=\"M2415.5896,-209.2475C2416.9544,-195.2013 2418.3212,-181.1353 2419.5091,-168.9099\"/>\n",
       "<polygon fill=\"#000000\" stroke=\"#000000\" points=\"2423.0188,-168.9787 2420.5025,-158.6871 2416.0517,-168.3017 2423.0188,-168.9787\"/>\n",
       "<text text-anchor=\"middle\" x=\"2610.1335\" y=\"-180.2802\" font-family=\"Times,serif\" font-size=\"14.00\" fill=\"#000000\">5f12e6031f35d2d599b227b52142184b60786005029292ee289f54ca</text>\n",
       "</g>\n",
       "<!-- 8 -->\n",
       "<g id=\"node13\" class=\"node\">\n",
       "<title>8</title>\n",
       "<ellipse fill=\"#b2dfee\" stroke=\"#b2dfee\" cx=\"2828.1335\" cy=\"-131.6102\" rx=\"39.6962\" ry=\"26.7407\"/>\n",
       "<text text-anchor=\"middle\" x=\"2828.1335\" y=\"-135.4102\" font-family=\"Times,serif\" font-size=\"14.00\" fill=\"#000000\">8</text>\n",
       "<text text-anchor=\"middle\" x=\"2828.1335\" y=\"-120.4102\" font-family=\"Times,serif\" font-size=\"14.00\" fill=\"#000000\">tx = 91</text>\n",
       "</g>\n",
       "<!-- 3&#45;&gt;8 -->\n",
       "<g id=\"edge8\" class=\"edge\">\n",
       "<title>3&#45;&gt;8</title>\n",
       "<path fill=\"none\" stroke=\"#000000\" d=\"M2484.7381,-276.333C2586.2274,-262.1391 2757.9465,-232.7705 2805.1335,-191.4802 2812.135,-185.3536 2817.0163,-176.8485 2820.4155,-168.1701\"/>\n",
       "<polygon fill=\"#000000\" stroke=\"#000000\" points=\"2823.8248,-169.0094 2823.6576,-158.4159 2817.1821,-166.8015 2823.8248,-169.0094\"/>\n",
       "<text text-anchor=\"middle\" x=\"3006.1335\" y=\"-180.2802\" font-family=\"Times,serif\" font-size=\"14.00\" fill=\"#000000\">10956e66f17a2e4aa9daeba7413a39d940c095a97dac04a024cd3332</text>\n",
       "</g>\n",
       "<!-- 9 -->\n",
       "<g id=\"node14\" class=\"node\">\n",
       "<title>9</title>\n",
       "<ellipse fill=\"#b2dfee\" stroke=\"#b2dfee\" cx=\"3229.1335\" cy=\"-131.6102\" rx=\"43.2674\" ry=\"26.7407\"/>\n",
       "<text text-anchor=\"middle\" x=\"3229.1335\" y=\"-135.4102\" font-family=\"Times,serif\" font-size=\"14.00\" fill=\"#000000\">9</text>\n",
       "<text text-anchor=\"middle\" x=\"3229.1335\" y=\"-120.4102\" font-family=\"Times,serif\" font-size=\"14.00\" fill=\"#000000\">tx = &#45;11</text>\n",
       "</g>\n",
       "<!-- 3&#45;&gt;9 -->\n",
       "<g id=\"edge9\" class=\"edge\">\n",
       "<title>3&#45;&gt;9</title>\n",
       "<path fill=\"none\" stroke=\"#000000\" d=\"M2484.9522,-280.9346C2672.249,-268.0529 3141.3543,-232.0866 3199.1335,-191.4802 3207.5516,-185.5641 3213.7347,-176.5834 3218.222,-167.3639\"/>\n",
       "<polygon fill=\"#000000\" stroke=\"#000000\" points=\"3221.4402,-168.7396 3222.164,-158.1695 3215.0066,-165.9811 3221.4402,-168.7396\"/>\n",
       "<text text-anchor=\"middle\" x=\"3400.6335\" y=\"-180.2802\" font-family=\"Times,serif\" font-size=\"14.00\" fill=\"#000000\">0fc587411f5cc5686200b72bfc3d317a488d4987e7f2ee120812b231</text>\n",
       "</g>\n",
       "<!-- 0 -->\n",
       "<g id=\"node9\" class=\"node\">\n",
       "<title>0</title>\n",
       "<ellipse fill=\"none\" stroke=\"#000000\" cx=\"1454.1335\" cy=\"-431.4802\" rx=\"27\" ry=\"18\"/>\n",
       "<text text-anchor=\"middle\" x=\"1454.1335\" y=\"-427.7802\" font-family=\"Times,serif\" font-size=\"14.00\" fill=\"#000000\">0</text>\n",
       "</g>\n",
       "<!-- 0&#45;&gt;1 -->\n",
       "<g id=\"edge1\" class=\"edge\">\n",
       "<title>0&#45;&gt;1</title>\n",
       "<path fill=\"none\" stroke=\"#000000\" d=\"M1429.4083,-423.7602C1363.1063,-403.0586 1179.0598,-345.5935 1070.7386,-311.7722\"/>\n",
       "<polygon fill=\"#000000\" stroke=\"#000000\" points=\"1071.7318,-308.4157 1061.1431,-308.7761 1069.6455,-315.0976 1071.7318,-308.4157\"/>\n",
       "<text text-anchor=\"middle\" x=\"1519.1335\" y=\"-384.2802\" font-family=\"Times,serif\" font-size=\"14.00\" fill=\"#000000\">d14a028c2a3a2bc9476102bb288234c415a2b01f828ea62ac5b3e42f</text>\n",
       "</g>\n",
       "<!-- 0&#45;&gt;3 -->\n",
       "<g id=\"edge3\" class=\"edge\">\n",
       "<title>0&#45;&gt;3</title>\n",
       "<path fill=\"none\" stroke=\"#000000\" d=\"M1480.8974,-427.902C1527.7822,-421.5988 1627.807,-407.996 1712.1335,-395.4802 1931.7634,-362.8828 2189.8605,-321.459 2321.4487,-300.1149\"/>\n",
       "<polygon fill=\"#000000\" stroke=\"#000000\" points=\"2322.1625,-303.545 2331.4726,-298.4882 2321.0411,-296.6354 2322.1625,-303.545\"/>\n",
       "<text text-anchor=\"middle\" x=\"1994.6335\" y=\"-384.2802\" font-family=\"Times,serif\" font-size=\"14.00\" fill=\"#000000\">fff9292b4201617bdc4d3053fce02734166a683d7d858a7f5f59b073</text>\n",
       "</g>\n",
       "</g>\n",
       "</svg>\n"
      ],
      "text/plain": [
       "<graphviz.dot.Digraph at 0x10f608d90>"
      ]
     },
     "execution_count": 31,
     "metadata": {},
     "output_type": "execute_result"
    }
   ],
   "source": [
    "t.draw()"
   ]
  },
  {
   "cell_type": "code",
   "execution_count": 32,
   "metadata": {},
   "outputs": [],
   "source": [
    "db.close_session()"
   ]
  },
  {
   "cell_type": "code",
   "execution_count": null,
   "metadata": {},
   "outputs": [],
   "source": []
  }
 ],
 "metadata": {
  "kernelspec": {
   "display_name": "Python 3",
   "language": "python",
   "name": "python3"
  },
  "language_info": {
   "codemirror_mode": {
    "name": "ipython",
    "version": 3
   },
   "file_extension": ".py",
   "mimetype": "text/x-python",
   "name": "python",
   "nbconvert_exporter": "python",
   "pygments_lexer": "ipython3",
   "version": "3.7.4"
  }
 },
 "nbformat": 4,
 "nbformat_minor": 4
}
